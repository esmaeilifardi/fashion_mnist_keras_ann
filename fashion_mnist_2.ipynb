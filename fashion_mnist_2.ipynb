{
  "nbformat": 4,
  "nbformat_minor": 0,
  "metadata": {
    "colab": {
      "provenance": [],
      "authorship_tag": "ABX9TyOj75k0VkR/D02PdWnsJk5p",
      "include_colab_link": true
    },
    "kernelspec": {
      "name": "python3",
      "display_name": "Python 3"
    },
    "language_info": {
      "name": "python"
    },
    "accelerator": "GPU",
    "gpuClass": "standard"
  },
  "cells": [
    {
      "cell_type": "markdown",
      "metadata": {
        "id": "view-in-github",
        "colab_type": "text"
      },
      "source": [
        "<a href=\"https://colab.research.google.com/github/esmaeilifardi/fashion_mnist_keras_ann/blob/main/fashion_mnist_2.ipynb\" target=\"_parent\"><img src=\"https://colab.research.google.com/assets/colab-badge.svg\" alt=\"Open In Colab\"/></a>"
      ]
    },
    {
      "cell_type": "code",
      "execution_count": 38,
      "metadata": {
        "id": "stPflWl8wXx3"
      },
      "outputs": [],
      "source": [
        "import tensorflow as tf\n",
        "from tensorflow import keras\n",
        "import matplotlib.pyplot as plt\n",
        "import pandas as pd\n",
        "import numpy as np\n"
      ]
    },
    {
      "cell_type": "code",
      "source": [
        "(X_train, y_train), (X_test, y_test)  = tf.keras.datasets.fashion_mnist.load_data()"
      ],
      "metadata": {
        "id": "qU7B_Q3BxHf4"
      },
      "execution_count": 20,
      "outputs": []
    },
    {
      "cell_type": "code",
      "source": [
        "X_train.shape"
      ],
      "metadata": {
        "colab": {
          "base_uri": "https://localhost:8080/"
        },
        "id": "nOkKiB4fzF-A",
        "outputId": "5a1948bd-aede-48ca-8dc3-9a2ec88f77af"
      },
      "execution_count": null,
      "outputs": [
        {
          "output_type": "execute_result",
          "data": {
            "text/plain": [
              "(60000, 28, 28)"
            ]
          },
          "metadata": {},
          "execution_count": 5
        }
      ]
    },
    {
      "cell_type": "code",
      "source": [
        "y_train.shape"
      ],
      "metadata": {
        "colab": {
          "base_uri": "https://localhost:8080/"
        },
        "id": "ojrPsXoizNl0",
        "outputId": "f4c62643-672e-4105-d0dd-a548e5c8d272"
      },
      "execution_count": null,
      "outputs": [
        {
          "output_type": "execute_result",
          "data": {
            "text/plain": [
              "(60000,)"
            ]
          },
          "metadata": {},
          "execution_count": 6
        }
      ]
    },
    {
      "cell_type": "code",
      "source": [
        "X_test.shape"
      ],
      "metadata": {
        "colab": {
          "base_uri": "https://localhost:8080/"
        },
        "id": "zc9WPN41zTBs",
        "outputId": "f3d12f73-2275-4514-959b-ae2fb0de11ab"
      },
      "execution_count": null,
      "outputs": [
        {
          "output_type": "execute_result",
          "data": {
            "text/plain": [
              "(10000, 28, 28)"
            ]
          },
          "metadata": {},
          "execution_count": 7
        }
      ]
    },
    {
      "cell_type": "code",
      "source": [
        "y_test.shape"
      ],
      "metadata": {
        "colab": {
          "base_uri": "https://localhost:8080/"
        },
        "id": "JdaD2yFMzXUW",
        "outputId": "d6e695bc-6418-499f-8899-3f7a495b75cc"
      },
      "execution_count": null,
      "outputs": [
        {
          "output_type": "execute_result",
          "data": {
            "text/plain": [
              "(10000,)"
            ]
          },
          "metadata": {},
          "execution_count": 8
        }
      ]
    },
    {
      "cell_type": "code",
      "source": [
        "y_train[:10]"
      ],
      "metadata": {
        "colab": {
          "base_uri": "https://localhost:8080/"
        },
        "id": "4hspz7W6zais",
        "outputId": "f3e88a68-3a2c-43ab-e26a-344f01d8ef10"
      },
      "execution_count": null,
      "outputs": [
        {
          "output_type": "execute_result",
          "data": {
            "text/plain": [
              "array([9, 0, 0, 3, 0, 2, 7, 2, 5, 5], dtype=uint8)"
            ]
          },
          "metadata": {},
          "execution_count": 10
        }
      ]
    },
    {
      "cell_type": "code",
      "source": [
        "X_train[1,]"
      ],
      "metadata": {
        "id": "SRubTGkczk9n"
      },
      "execution_count": null,
      "outputs": []
    },
    {
      "cell_type": "code",
      "source": [
        "plt.imshow(X_train[0,], cmap='gray')"
      ],
      "metadata": {
        "colab": {
          "base_uri": "https://localhost:8080/",
          "height": 448
        },
        "id": "aNawzHQh3x4D",
        "outputId": "6b382f9b-ac25-4ba9-a88f-56cc0a01a909"
      },
      "execution_count": null,
      "outputs": [
        {
          "output_type": "execute_result",
          "data": {
            "text/plain": [
              "<matplotlib.image.AxesImage at 0x7fd425496d60>"
            ]
          },
          "metadata": {},
          "execution_count": 16
        },
        {
          "output_type": "display_data",
          "data": {
            "text/plain": [
              "<Figure size 640x480 with 1 Axes>"
            ],
            "image/png": "[encoded data removed]"
          },
          "metadata": {}
        }
      ]
    },
    {
      "cell_type": "code",
      "source": [
        "X_train, X_test = X_train/255.0, X_test/255.0 #chone max 255 , min 0"
      ],
      "metadata": {
        "id": "oA-zj4Lg4fgH"
      },
      "execution_count": 21,
      "outputs": []
    },
    {
      "cell_type": "code",
      "source": [
        "X_train[1,] #normal shode"
      ],
      "metadata": {
        "id": "y8a-14nm42OM"
      },
      "execution_count": null,
      "outputs": []
    },
    {
      "cell_type": "code",
      "source": [
        "'''\n",
        "#method A:\n",
        "model = keras.models.Sequential()\n",
        "model.add(keras.layers.Flatten(input_shape=[28,28]))\n",
        "model.add(keras.layers.Dense(25, keras.activations.relu))\n",
        "model.add(keras.layers.Dense(15, keras.activations.relu))\n",
        "model.add(keras.layers.Dense(10, keras.activations.softmax)) #chone multiclass\n",
        "'''"
      ],
      "metadata": {
        "id": "iBQ5dFnF6clX"
      },
      "execution_count": null,
      "outputs": []
    },
    {
      "cell_type": "code",
      "source": [
        "#method B:\n",
        "model = keras.models.Sequential([\n",
        "    keras.layers.Flatten(input_shape=[28,28]), #or input_shape= X_train.shape[1:]\n",
        "    keras.layers.Dense(100, keras.activations.relu),\n",
        "    keras.layers.Dense(80, keras.activations.relu),\n",
        "    keras.layers.Dense(10, keras.activations.softmax)\n",
        "  ])"
      ],
      "metadata": {
        "id": "fOmO5XAm9nzm"
      },
      "execution_count": 22,
      "outputs": []
    },
    {
      "cell_type": "code",
      "source": [
        "model.summary() \n",
        "#param = WI\n",
        "#non_trainable = freezed"
      ],
      "metadata": {
        "colab": {
          "base_uri": "https://localhost:8080/"
        },
        "id": "Ju7sFIrI_W0x",
        "outputId": "93981fd9-4e44-4701-a380-a5b52f6dd32a"
      },
      "execution_count": 5,
      "outputs": [
        {
          "output_type": "stream",
          "name": "stdout",
          "text": [
            "Model: \"sequential\"\n",
            "_________________________________________________________________\n",
            " Layer (type)                Output Shape              Param #   \n",
            "=================================================================\n",
            " flatten (Flatten)           (None, 784)               0         \n",
            "                                                                 \n",
            " dense (Dense)               (None, 25)                19625     \n",
            "                                                                 \n",
            " dense_1 (Dense)             (None, 15)                390       \n",
            "                                                                 \n",
            " dense_2 (Dense)             (None, 10)                160       \n",
            "                                                                 \n",
            "=================================================================\n",
            "Total params: 20,175\n",
            "Trainable params: 20,175\n",
            "Non-trainable params: 0\n",
            "_________________________________________________________________\n"
          ]
        }
      ]
    },
    {
      "cell_type": "code",
      "source": [
        "model.layers #list of layers"
      ],
      "metadata": {
        "colab": {
          "base_uri": "https://localhost:8080/"
        },
        "id": "8cpLuFK4Bg0e",
        "outputId": "e974d829-7f0d-40af-efe5-c92982d46332"
      },
      "execution_count": null,
      "outputs": [
        {
          "output_type": "execute_result",
          "data": {
            "text/plain": [
              "[<keras.layers.reshaping.flatten.Flatten at 0x7f33f2e87a00>,\n",
              " <keras.layers.core.dense.Dense at 0x7f33f2e87670>,\n",
              " <keras.layers.core.dense.Dense at 0x7f33f2e87640>,\n",
              " <keras.layers.core.dense.Dense at 0x7f347b61c250>]"
            ]
          },
          "metadata": {},
          "execution_count": 13
        }
      ]
    },
    {
      "cell_type": "code",
      "source": [
        "model.layers[1] #list of layer a"
      ],
      "metadata": {
        "colab": {
          "base_uri": "https://localhost:8080/"
        },
        "id": "9M7c13bJBrnL",
        "outputId": "bacb3aa3-b024-485f-d70c-9b6da1d42b7e"
      },
      "execution_count": null,
      "outputs": [
        {
          "output_type": "execute_result",
          "data": {
            "text/plain": [
              "<keras.layers.core.dense.Dense at 0x7f33f2e87670>"
            ]
          },
          "metadata": {},
          "execution_count": 14
        }
      ]
    },
    {
      "cell_type": "code",
      "source": [
        "weights, biases = model.layers[1].get_weights() #list of layer 1 weights & biases"
      ],
      "metadata": {
        "id": "8Gx1XL6UB1JY"
      },
      "execution_count": null,
      "outputs": []
    },
    {
      "cell_type": "code",
      "source": [
        "weights"
      ],
      "metadata": {
        "id": "F6fFJKuJB7bh"
      },
      "execution_count": null,
      "outputs": []
    },
    {
      "cell_type": "code",
      "source": [
        "biases"
      ],
      "metadata": {
        "colab": {
          "base_uri": "https://localhost:8080/"
        },
        "id": "Zb7JYaVSCOu9",
        "outputId": "9df814ee-e89e-4726-8c0a-6def8419b60e"
      },
      "execution_count": null,
      "outputs": [
        {
          "output_type": "execute_result",
          "data": {
            "text/plain": [
              "array([0., 0., 0., 0., 0., 0., 0., 0., 0., 0., 0., 0., 0., 0., 0., 0., 0.,\n",
              "       0., 0., 0., 0., 0., 0., 0., 0.], dtype=float32)"
            ]
          },
          "metadata": {},
          "execution_count": 18
        }
      ]
    },
    {
      "cell_type": "code",
      "source": [
        "weights.shape # chone vorody 784 noron darad va laye badi 25 noron darad"
      ],
      "metadata": {
        "colab": {
          "base_uri": "https://localhost:8080/"
        },
        "id": "5egwSrmPClh7",
        "outputId": "6529f0ef-f9d1-4839-e6ea-3f916ecc85df"
      },
      "execution_count": null,
      "outputs": [
        {
          "output_type": "execute_result",
          "data": {
            "text/plain": [
              "(784, 25)"
            ]
          },
          "metadata": {},
          "execution_count": 19
        }
      ]
    },
    {
      "cell_type": "code",
      "source": [
        "# method B:\n",
        "'''\n",
        "model.compile(\n",
        "    optimizer = keras.optimizers.SGD() ,\n",
        "    loss = keras.losses.sparse_categorical_crossentropy,\n",
        "    metrics = [keras.metrics.sparse_categorical_accuracy]\n",
        ")\n",
        "'''"
      ],
      "metadata": {
        "id": "hbWT9XlTCnax",
        "colab": {
          "base_uri": "https://localhost:8080/",
          "height": 36
        },
        "outputId": "b69d874c-cb9c-4c14-f259-90dd361cb271"
      },
      "execution_count": 29,
      "outputs": [
        {
          "output_type": "execute_result",
          "data": {
            "text/plain": [
              "'\\nmodel.compile(\\n    optimizer = keras.optimizers.SGD() ,\\n    loss = keras.losses.CategoricalCrossentropy,\\n    metrics = [keras.metrics.sparse_categorical_accuracy]\\n)\\n'"
            ],
            "application/vnd.google.colaboratory.intrinsic+json": {
              "type": "string"
            }
          },
          "metadata": {},
          "execution_count": 29
        }
      ]
    },
    {
      "cell_type": "code",
      "source": [
        "# method A:\n",
        "\n",
        "model.compile(\n",
        "    optimizer = 'sgd',\n",
        "    loss = 'sparse_categorical_crossentropy',\n",
        "    metrics = ['accuracy']\n",
        ")"
      ],
      "metadata": {
        "id": "27dYtK4--bm1"
      },
      "execution_count": 23,
      "outputs": []
    },
    {
      "cell_type": "code",
      "source": [
        "checkpoint_fashin_mnist = tf.keras.callbacks.ModelCheckpoint('fmn_model', save_best_only=True)\n",
        "early_stopping_cb = tf.keras.callbacks.EarlyStopping(patience=10, restore_best_weights=True)\n",
        "\n",
        "history = model.fit(X_train , y_train,\n",
        "                    epochs=50,\n",
        "                    verbose='auto',\n",
        "                    validation_split= 0.1,\n",
        "                    callbacks=[checkpoint_fashin_mnist, early_stopping_cb])"
      ],
      "metadata": {
        "colab": {
          "base_uri": "https://localhost:8080/"
        },
        "id": "ACDj2pzVB2JA",
        "outputId": "65d86e21-33bb-4227-938b-88fb5ad02152"
      },
      "execution_count": 24,
      "outputs": [
        {
          "output_type": "stream",
          "name": "stdout",
          "text": [
            "Epoch 1/50\n",
            "1688/1688 [==============================] - 9s 5ms/step - loss: 0.7864 - accuracy: 0.7388 - val_loss: 0.6011 - val_accuracy: 0.7913\n",
            "Epoch 2/50\n",
            "1688/1688 [==============================] - 6s 4ms/step - loss: 0.5171 - accuracy: 0.8196 - val_loss: 0.4816 - val_accuracy: 0.8327\n",
            "Epoch 3/50\n",
            "1688/1688 [==============================] - 7s 4ms/step - loss: 0.4677 - accuracy: 0.8375 - val_loss: 0.4625 - val_accuracy: 0.8340\n",
            "Epoch 4/50\n",
            "1688/1688 [==============================] - 7s 4ms/step - loss: 0.4384 - accuracy: 0.8471 - val_loss: 0.4174 - val_accuracy: 0.8488\n",
            "Epoch 5/50\n",
            "1688/1688 [==============================] - 7s 4ms/step - loss: 0.4171 - accuracy: 0.8552 - val_loss: 0.4126 - val_accuracy: 0.8517\n",
            "Epoch 6/50\n",
            "1688/1688 [==============================] - 6s 4ms/step - loss: 0.4014 - accuracy: 0.8601 - val_loss: 0.3969 - val_accuracy: 0.8563\n",
            "Epoch 7/50\n",
            "1688/1688 [==============================] - 6s 4ms/step - loss: 0.3862 - accuracy: 0.8645 - val_loss: 0.4073 - val_accuracy: 0.8505\n",
            "Epoch 8/50\n",
            "1688/1688 [==============================] - 6s 4ms/step - loss: 0.3754 - accuracy: 0.8689 - val_loss: 0.3826 - val_accuracy: 0.8610\n",
            "Epoch 9/50\n",
            "1688/1688 [==============================] - 7s 4ms/step - loss: 0.3647 - accuracy: 0.8710 - val_loss: 0.3738 - val_accuracy: 0.8662\n",
            "Epoch 10/50\n",
            "1688/1688 [==============================] - 6s 3ms/step - loss: 0.3539 - accuracy: 0.8754 - val_loss: 0.3767 - val_accuracy: 0.8658\n",
            "Epoch 11/50\n",
            "1688/1688 [==============================] - 7s 4ms/step - loss: 0.3458 - accuracy: 0.8768 - val_loss: 0.3739 - val_accuracy: 0.8697\n",
            "Epoch 12/50\n",
            "1688/1688 [==============================] - 6s 4ms/step - loss: 0.3370 - accuracy: 0.8801 - val_loss: 0.3614 - val_accuracy: 0.8718\n",
            "Epoch 13/50\n",
            "1688/1688 [==============================] - 7s 4ms/step - loss: 0.3305 - accuracy: 0.8822 - val_loss: 0.3733 - val_accuracy: 0.8672\n",
            "Epoch 14/50\n",
            "1688/1688 [==============================] - 7s 4ms/step - loss: 0.3229 - accuracy: 0.8842 - val_loss: 0.3572 - val_accuracy: 0.8733\n",
            "Epoch 15/50\n",
            "1688/1688 [==============================] - 6s 4ms/step - loss: 0.3180 - accuracy: 0.8866 - val_loss: 0.3747 - val_accuracy: 0.8690\n",
            "Epoch 16/50\n",
            "1688/1688 [==============================] - 7s 4ms/step - loss: 0.3109 - accuracy: 0.8879 - val_loss: 0.3450 - val_accuracy: 0.8783\n",
            "Epoch 17/50\n",
            "1688/1688 [==============================] - 6s 3ms/step - loss: 0.3059 - accuracy: 0.8916 - val_loss: 0.3488 - val_accuracy: 0.8733\n",
            "Epoch 18/50\n",
            "1688/1688 [==============================] - 7s 4ms/step - loss: 0.3007 - accuracy: 0.8921 - val_loss: 0.3439 - val_accuracy: 0.8758\n",
            "Epoch 19/50\n",
            "1688/1688 [==============================] - 6s 3ms/step - loss: 0.2954 - accuracy: 0.8943 - val_loss: 0.3516 - val_accuracy: 0.8733\n",
            "Epoch 20/50\n",
            "1688/1688 [==============================] - 7s 4ms/step - loss: 0.2911 - accuracy: 0.8968 - val_loss: 0.3358 - val_accuracy: 0.8767\n",
            "Epoch 21/50\n",
            "1688/1688 [==============================] - 6s 3ms/step - loss: 0.2871 - accuracy: 0.8971 - val_loss: 0.3533 - val_accuracy: 0.8775\n",
            "Epoch 22/50\n",
            "1688/1688 [==============================] - 6s 4ms/step - loss: 0.2827 - accuracy: 0.8981 - val_loss: 0.3371 - val_accuracy: 0.8785\n",
            "Epoch 23/50\n",
            "1688/1688 [==============================] - 6s 4ms/step - loss: 0.2780 - accuracy: 0.9006 - val_loss: 0.3321 - val_accuracy: 0.8807\n",
            "Epoch 24/50\n",
            "1688/1688 [==============================] - 7s 4ms/step - loss: 0.2738 - accuracy: 0.9029 - val_loss: 0.3282 - val_accuracy: 0.8802\n",
            "Epoch 25/50\n",
            "1688/1688 [==============================] - 6s 3ms/step - loss: 0.2699 - accuracy: 0.9034 - val_loss: 0.3606 - val_accuracy: 0.8710\n",
            "Epoch 26/50\n",
            "1688/1688 [==============================] - 6s 4ms/step - loss: 0.2665 - accuracy: 0.9048 - val_loss: 0.3660 - val_accuracy: 0.8682\n",
            "Epoch 27/50\n",
            "1688/1688 [==============================] - 5s 3ms/step - loss: 0.2626 - accuracy: 0.9059 - val_loss: 0.3347 - val_accuracy: 0.8815\n",
            "Epoch 28/50\n",
            "1688/1688 [==============================] - 6s 3ms/step - loss: 0.2601 - accuracy: 0.9071 - val_loss: 0.3302 - val_accuracy: 0.8812\n",
            "Epoch 29/50\n",
            "1688/1688 [==============================] - 6s 4ms/step - loss: 0.2570 - accuracy: 0.9076 - val_loss: 0.3181 - val_accuracy: 0.8887\n",
            "Epoch 30/50\n",
            "1688/1688 [==============================] - 7s 4ms/step - loss: 0.2530 - accuracy: 0.9092 - val_loss: 0.3216 - val_accuracy: 0.8863\n",
            "Epoch 31/50\n",
            "1688/1688 [==============================] - 6s 3ms/step - loss: 0.2504 - accuracy: 0.9109 - val_loss: 0.3278 - val_accuracy: 0.8832\n",
            "Epoch 32/50\n",
            "1688/1688 [==============================] - 6s 4ms/step - loss: 0.2470 - accuracy: 0.9104 - val_loss: 0.3459 - val_accuracy: 0.8775\n",
            "Epoch 33/50\n",
            "1688/1688 [==============================] - 6s 4ms/step - loss: 0.2446 - accuracy: 0.9122 - val_loss: 0.3194 - val_accuracy: 0.8873\n",
            "Epoch 34/50\n",
            "1688/1688 [==============================] - 6s 3ms/step - loss: 0.2411 - accuracy: 0.9135 - val_loss: 0.3410 - val_accuracy: 0.8797\n",
            "Epoch 35/50\n",
            "1688/1688 [==============================] - 6s 4ms/step - loss: 0.2377 - accuracy: 0.9147 - val_loss: 0.3131 - val_accuracy: 0.8870\n",
            "Epoch 36/50\n",
            "1688/1688 [==============================] - 6s 3ms/step - loss: 0.2355 - accuracy: 0.9154 - val_loss: 0.3400 - val_accuracy: 0.8842\n",
            "Epoch 37/50\n",
            "1688/1688 [==============================] - 6s 4ms/step - loss: 0.2324 - accuracy: 0.9156 - val_loss: 0.3445 - val_accuracy: 0.8782\n",
            "Epoch 38/50\n",
            "1688/1688 [==============================] - 6s 3ms/step - loss: 0.2290 - accuracy: 0.9186 - val_loss: 0.3256 - val_accuracy: 0.8857\n",
            "Epoch 39/50\n",
            "1688/1688 [==============================] - 6s 4ms/step - loss: 0.2264 - accuracy: 0.9185 - val_loss: 0.3284 - val_accuracy: 0.8877\n",
            "Epoch 40/50\n",
            "1688/1688 [==============================] - 5s 3ms/step - loss: 0.2246 - accuracy: 0.9201 - val_loss: 0.3262 - val_accuracy: 0.8840\n",
            "Epoch 41/50\n",
            "1688/1688 [==============================] - 6s 4ms/step - loss: 0.2219 - accuracy: 0.9206 - val_loss: 0.3180 - val_accuracy: 0.8875\n",
            "Epoch 42/50\n",
            "1688/1688 [==============================] - 5s 3ms/step - loss: 0.2188 - accuracy: 0.9217 - val_loss: 0.3426 - val_accuracy: 0.8798\n",
            "Epoch 43/50\n",
            "1688/1688 [==============================] - 7s 4ms/step - loss: 0.2161 - accuracy: 0.9227 - val_loss: 0.3450 - val_accuracy: 0.8810\n",
            "Epoch 44/50\n",
            "1688/1688 [==============================] - 6s 3ms/step - loss: 0.2129 - accuracy: 0.9234 - val_loss: 0.3223 - val_accuracy: 0.8875\n",
            "Epoch 45/50\n",
            "1688/1688 [==============================] - 7s 4ms/step - loss: 0.2108 - accuracy: 0.9240 - val_loss: 0.3471 - val_accuracy: 0.8757\n"
          ]
        }
      ]
    },
    {
      "cell_type": "code",
      "source": [
        "#history.epoch\n",
        "print(history.history)"
      ],
      "metadata": {
        "colab": {
          "base_uri": "https://localhost:8080/"
        },
        "id": "FyYcZbF8ELKs",
        "outputId": "4a7b90a2-ccd6-4e39-d4c9-ed5c21d5fec6"
      },
      "execution_count": 25,
      "outputs": [
        {
          "output_type": "stream",
          "name": "stdout",
          "text": [
            "{'loss': [0.786424458026886, 0.5171257257461548, 0.4676574766635895, 0.4384371042251587, 0.4170898497104645, 0.40139806270599365, 0.3861587941646576, 0.37543579936027527, 0.36472293734550476, 0.3539432883262634, 0.34577620029449463, 0.3370151221752167, 0.3305446207523346, 0.3229219913482666, 0.31804001331329346, 0.3109437823295593, 0.30593714118003845, 0.30066564679145813, 0.2953933775424957, 0.2910555601119995, 0.28706228733062744, 0.2826714515686035, 0.27799949049949646, 0.27382928133010864, 0.2699202001094818, 0.2665001451969147, 0.26255616545677185, 0.26005223393440247, 0.2569584250450134, 0.2529790997505188, 0.2504301369190216, 0.24696506559848785, 0.24460797011852264, 0.2410922646522522, 0.2377043515443802, 0.23552021384239197, 0.23238278925418854, 0.2290249615907669, 0.22644387185573578, 0.22464101016521454, 0.22188088297843933, 0.2188398689031601, 0.2160610556602478, 0.21294072270393372, 0.2107573002576828], 'accuracy': [0.7388148307800293, 0.8196296095848083, 0.8374629616737366, 0.8470740914344788, 0.8551666736602783, 0.8601481318473816, 0.8645370602607727, 0.8688889145851135, 0.8710370659828186, 0.8754073977470398, 0.8768148422241211, 0.8800555467605591, 0.8822407126426697, 0.8842407464981079, 0.8865740895271301, 0.8878889083862305, 0.8915740847587585, 0.8921296000480652, 0.8943148255348206, 0.8967962861061096, 0.8971111178398132, 0.8981296420097351, 0.9006111025810242, 0.9028888940811157, 0.9034444689750671, 0.9047777652740479, 0.9058703780174255, 0.9071481227874756, 0.9076111316680908, 0.9092037081718445, 0.9108889102935791, 0.910444438457489, 0.9122037291526794, 0.9134814739227295, 0.9147407412528992, 0.9154074192047119, 0.9156110882759094, 0.9185555577278137, 0.9185370206832886, 0.9201111197471619, 0.9206110835075378, 0.9216851592063904, 0.9226666688919067, 0.9234259128570557, 0.9240000247955322], 'val_loss': [0.6011472940444946, 0.4816267192363739, 0.46252259612083435, 0.41738152503967285, 0.4126211702823639, 0.3969361484050751, 0.40734830498695374, 0.3826459050178528, 0.3737618923187256, 0.37668144702911377, 0.37385228276252747, 0.3613838851451874, 0.3732622563838959, 0.35715410113334656, 0.374748170375824, 0.34504687786102295, 0.34880736470222473, 0.34393399953842163, 0.35157597064971924, 0.3358151912689209, 0.35328811407089233, 0.3370582163333893, 0.3321174085140228, 0.32817909121513367, 0.3605812191963196, 0.36604806780815125, 0.3347083032131195, 0.33024299144744873, 0.3181230425834656, 0.32155439257621765, 0.32780352234840393, 0.3459106385707855, 0.3194043040275574, 0.3409572243690491, 0.31307294964790344, 0.34000083804130554, 0.3444880247116089, 0.3255500793457031, 0.32843121886253357, 0.3261634409427643, 0.3180481791496277, 0.34264758229255676, 0.34499990940093994, 0.32234805822372437, 0.3470669388771057], 'val_accuracy': [0.7913333177566528, 0.8326666951179504, 0.8339999914169312, 0.8488333225250244, 0.8516666889190674, 0.856333315372467, 0.8504999876022339, 0.8610000014305115, 0.8661666512489319, 0.8658333420753479, 0.8696666955947876, 0.871833324432373, 0.8671666383743286, 0.8733333349227905, 0.8690000176429749, 0.878333330154419, 0.8733333349227905, 0.8758333325386047, 0.8733333349227905, 0.8766666650772095, 0.8774999976158142, 0.8784999847412109, 0.8806666731834412, 0.8801666498184204, 0.8709999918937683, 0.8681666851043701, 0.8815000057220459, 0.8811666369438171, 0.8886666893959045, 0.8863333463668823, 0.8831666707992554, 0.8774999976158142, 0.887333333492279, 0.8796666860580444, 0.8870000243186951, 0.8841666579246521, 0.878166675567627, 0.8856666684150696, 0.887666642665863, 0.8840000033378601, 0.887499988079071, 0.8798333406448364, 0.8809999823570251, 0.887499988079071, 0.8756666779518127]}\n"
          ]
        }
      ]
    },
    {
      "cell_type": "code",
      "source": [
        "df = pd.DataFrame(history.history)\n",
        "df.plot(figsize=(8, 5))\n",
        "plt.gca().set_ylim(0, 1)\n",
        "plt.show()"
      ],
      "metadata": {
        "colab": {
          "base_uri": "https://localhost:8080/",
          "height": 445
        },
        "id": "znBILMBFGaCh",
        "outputId": "94dee159-1e36-47cd-af7f-e486185a757f"
      },
      "execution_count": 27,
      "outputs": [
        {
          "output_type": "display_data",
          "data": {
            "text/plain": [
              "<Figure size 800x500 with 1 Axes>"
            ],
            "image/png": "[encoded data removed]"
          },
          "metadata": {}
        }
      ]
    },
    {
      "cell_type": "code",
      "source": [
        "model.evaluate(X_test, y_test)"
      ],
      "metadata": {
        "colab": {
          "base_uri": "https://localhost:8080/"
        },
        "id": "TOeMYo9bNj1b",
        "outputId": "a7770011-a667-4599-aa9e-547a2b74214f"
      },
      "execution_count": 28,
      "outputs": [
        {
          "output_type": "stream",
          "name": "stdout",
          "text": [
            "313/313 [==============================] - 1s 3ms/step - loss: 0.3383 - accuracy: 0.8814\n"
          ]
        },
        {
          "output_type": "execute_result",
          "data": {
            "text/plain": [
              "[0.3383416533470154, 0.8813999891281128]"
            ]
          },
          "metadata": {},
          "execution_count": 28
        }
      ]
    },
    {
      "cell_type": "code",
      "source": [
        "x3 = X_test[1:3] #select 2 picture for manual test\n",
        "x3.shape"
      ],
      "metadata": {
        "colab": {
          "base_uri": "https://localhost:8080/"
        },
        "id": "_dboGT1sN6CM",
        "outputId": "44154e59-6511-4117-97eb-d7998c215f2d"
      },
      "execution_count": 30,
      "outputs": [
        {
          "output_type": "execute_result",
          "data": {
            "text/plain": [
              "(2, 28, 28)"
            ]
          },
          "metadata": {},
          "execution_count": 30
        }
      ]
    },
    {
      "cell_type": "code",
      "source": [
        "plt.imshow(x3[0])"
      ],
      "metadata": {
        "id": "K7nZXx4lOhjN"
      },
      "execution_count": null,
      "outputs": []
    },
    {
      "cell_type": "code",
      "source": [
        "plt.imshow(x3[1])"
      ],
      "metadata": {
        "id": "Ce-uCV1bPjQg"
      },
      "execution_count": null,
      "outputs": []
    },
    {
      "cell_type": "code",
      "source": [
        "y_pred = model.predict(x3).round(3) #3"
      ],
      "metadata": {
        "colab": {
          "base_uri": "https://localhost:8080/"
        },
        "id": "71ZkrhcfOnNl",
        "outputId": "5a9db9cf-fdd1-4a2f-c802-3a9280af0009"
      },
      "execution_count": 36,
      "outputs": [
        {
          "output_type": "stream",
          "name": "stdout",
          "text": [
            "1/1 [==============================] - 0s 18ms/step\n"
          ]
        }
      ]
    },
    {
      "cell_type": "code",
      "source": [
        "np.argmax(y_pred, axis=1)"
      ],
      "metadata": {
        "colab": {
          "base_uri": "https://localhost:8080/"
        },
        "id": "3M09u2lIO-XL",
        "outputId": "4c1d9098-2496-4252-cf77-9306a7608b86"
      },
      "execution_count": 41,
      "outputs": [
        {
          "output_type": "execute_result",
          "data": {
            "text/plain": [
              "array([2, 1])"
            ]
          },
          "metadata": {},
          "execution_count": 41
        }
      ]
    },
    {
      "cell_type": "code",
      "source": [
        "y_test[1:3]"
      ],
      "metadata": {
        "colab": {
          "base_uri": "https://localhost:8080/"
        },
        "id": "ToaeMxYpQRlr",
        "outputId": "76023cbe-5a07-4f2d-a812-b4999151e235"
      },
      "execution_count": 42,
      "outputs": [
        {
          "output_type": "execute_result",
          "data": {
            "text/plain": [
              "array([2, 1], dtype=uint8)"
            ]
          },
          "metadata": {},
          "execution_count": 42
        }
      ]
    }
  ]
}